{
 "cells": [
  {
   "cell_type": "code",
   "execution_count": 16,
   "id": "6b987327-66bf-4009-8ed7-04d1c3efb34a",
   "metadata": {
    "tags": []
   },
   "outputs": [],
   "source": [
    "import sys\n",
    "import pickle as pkl\n",
    "\n",
    "sys.path.append('..')\n",
    "with open(\"../eval_output/good-tree-100.pkl\", \"rb\") as f:\n",
    "    res = pkl.load(f)"
   ]
  },
  {
   "cell_type": "code",
   "execution_count": 17,
   "id": "a80645be-967f-46d3-afb5-e07f083b59e2",
   "metadata": {},
   "outputs": [
    {
     "data": {
      "text/plain": [
       "[State(((-7) + -6x) = (-3x + 5)),\n",
       " State((-6x + (-7)) = (-3x + 5) | comm 0.0, ((-7) + -6x)),\n",
       " State(((-6x + (-7)) - (-7)) = (-3x + (5 - (-7))) | sub~assoc $~0.1, (-7)~((-3x + 5) - (-7))),\n",
       " State((-6x + 0) = (-3x + (5 - (-7))) | assoc~eval 0.0~0.0.1, ((-6x + (-7)) - (-7))~((-7) - (-7))),\n",
       " State((-6x + 0) = ((5 - (-7)) + -3x) | comm 0.1, (-3x + (5 - (-7)))),\n",
       " State(-6x = ((5 - (-7)) + -3x) | add0 0.0, (-6x + 0)),\n",
       " State((-6x - -3x) = ((5 - (-7)) + (-3x - -3x)) | sub~assoc $~0.1, -3x~(((5 - (-7)) + -3x) - -3x)),\n",
       " State((-6x - -3x) = ((5 - (-7)) + 0) | sub_self 0.1.1, (-3x - -3x)),\n",
       " State(-3x = ((5 - (-7)) + 0) | dist~eval 0.0~0.0.0, (-6x - -3x)~((-6) - (-3))),\n",
       " State(-3x = (12 + 0) | eval 0.1.0, (5 - (-7))),\n",
       " State((x * (-3)) = (12 + 0) | comm 0.0, -3x),\n",
       " State(((x * (-3)) / (-3)) = ((12 + 0) / (-3)) | div (-3)),\n",
       " State((x * 1) = ((12 + 0) / (-3)) | assoc~eval 0.0~0.0.1, ((x * (-3)) / (-3))~((-3) / (-3))),\n",
       " State(x = ((12 + 0) / (-3)) | mul1 0.0, (x * 1)),\n",
       " State(x = (12 / (-3)) | eval 0.1.0, (12 + 0)),\n",
       " State(x = (-4) | eval 0.1, (12 / (-3)))]"
      ]
     },
     "execution_count": 17,
     "metadata": {},
     "output_type": "execute_result"
    }
   ],
   "source": [
    "res['solutions'][2]"
   ]
  },
  {
   "cell_type": "code",
   "execution_count": null,
   "id": "5fdc9f2e-81c4-451e-8ff7-acd21a1db82e",
   "metadata": {},
   "outputs": [],
   "source": []
  }
 ],
 "metadata": {
  "kernelspec": {
   "display_name": "Python 3 (ipykernel)",
   "language": "python",
   "name": "python3"
  },
  "language_info": {
   "codemirror_mode": {
    "name": "ipython",
    "version": 3
   },
   "file_extension": ".py",
   "mimetype": "text/x-python",
   "name": "python",
   "nbconvert_exporter": "python",
   "pygments_lexer": "ipython3",
   "version": "3.9.7"
  }
 },
 "nbformat": 4,
 "nbformat_minor": 5
}
